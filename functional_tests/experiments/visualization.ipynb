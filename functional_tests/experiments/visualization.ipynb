{
 "cells": [
  {
   "cell_type": "code",
   "execution_count": null,
   "metadata": {},
   "outputs": [],
   "source": [
    "import pyreadr\n",
    "\n",
    "import pandas as pd\n",
    "import numpy as np\n",
    "\n",
    "import seaborn as sns\n",
    "import matplotlib.pyplot as plt\n",
    "\n",
    "import warnings\n",
    "warnings.filterwarnings(\"ignore\")\n"
   ]
  },
  {
   "cell_type": "markdown",
   "metadata": {},
   "source": [
    "# Discovery"
   ]
  },
  {
   "cell_type": "markdown",
   "metadata": {},
   "source": [
    "### Load Datasets"
   ]
  },
  {
   "cell_type": "code",
   "execution_count": null,
   "metadata": {},
   "outputs": [],
   "source": [
    "# load discovery results\n",
    "discovery = pyreadr.read_r('results/discovery_2000s_2r_nc.rdata')[\"discovery\"]\n",
    "discovery.replace(\"NaN\",\"0\", inplace=True)\n",
    "discovery.iloc[:,1:] = discovery.iloc[:,1:].astype(float)\n",
    "\n",
    "# filtering\n",
    "xmax = 4\n",
    "methods = [\"CRE (aipw)\", \"CRE (cf)\", \"CRE (bcf)\", \"HCT\"]\n",
    "discovery = discovery[(discovery.method.isin(methods)) & (discovery.effect_size<=xmax)]\n",
    "discovery"
   ]
  },
  {
   "cell_type": "code",
   "execution_count": null,
   "metadata": {},
   "outputs": [],
   "source": [
    "fig = plt.figure(constrained_layout=True, figsize=(7, 5))\n",
    "#fig.suptitle('Discovery')\n",
    "subfigs = fig.subfigures(nrows=1, ncols=2)\n",
    "labelsize = 8\n",
    "\n",
    "# Causal Decision Rules\n",
    "subfigs[0].suptitle(f'Causal Decision Rules', size=10)\n",
    "ax = subfigs[0].subplots(nrows=3, ncols=1)\n",
    "\n",
    "sns.lineplot(data=discovery, x=\"effect_size\", y=\"cdr_Recall\", hue=\"method\", ax=ax[0])\n",
    "ax[0].set_xlabel('Effect Size', size=labelsize)  \n",
    "ax[0].set_ylabel('Recall', size=labelsize) \n",
    "ax[0].set_ylim((0,1)) \n",
    "ax[0].set_xlim((0,xmax))\n",
    "ax[0].spines['top'].set_visible(False)\n",
    "ax[0].spines['right'].set_visible(False)\n",
    "ax[0].tick_params(axis='both', which='major', labelsize=labelsize)\n",
    "ax[0].get_legend().remove()\n",
    "\n",
    "sns.lineplot(data=discovery, x=\"effect_size\", y=\"cdr_Precision\", hue=\"method\", ax=ax[1])\n",
    "ax[1].set_xlabel('Effect Size', size=labelsize)  \n",
    "ax[1].set_ylabel('Precision', size=labelsize) \n",
    "ax[1].set_ylim((0,1)) \n",
    "ax[1].set_xlim((0,xmax))\n",
    "ax[1].spines['top'].set_visible(False)\n",
    "ax[1].spines['right'].set_visible(False)\n",
    "ax[1].tick_params(axis='both', which='major', labelsize=labelsize)\n",
    "ax[1].get_legend().remove()\n",
    "\n",
    "sns.lineplot(data=discovery, x=\"effect_size\", y=\"cdr_IoU\", hue=\"method\", ax=ax[2])\n",
    "ax[2].set_xlabel('Effect Size', size=labelsize)  \n",
    "ax[2].set_ylabel('IoU', size=labelsize)  \n",
    "ax[2].set_ylim((0,1))\n",
    "ax[2].set_xlim((0,xmax))\n",
    "ax[2].spines['top'].set_visible(False)\n",
    "ax[2].spines['right'].set_visible(False)\n",
    "ax[2].tick_params(axis='both', which='major', labelsize=labelsize)\n",
    "ax[2].get_legend().remove()\n",
    "\n",
    "\n",
    "# Effect Modifiers\n",
    "subfigs[1].suptitle(f'Effect Modifiers', size=10)\n",
    "ax = subfigs[1].subplots(nrows=3, ncols=1)\n",
    "\n",
    "sns.lineplot(data=discovery, x=\"effect_size\", y=\"em_Recall\", hue=\"method\", ax=ax[0])\n",
    "ax[0].set_xlabel('Effect Size', size=labelsize) \n",
    "ax[0].set_ylabel('Recall', size=labelsize) \n",
    "ax[0].set_ylim((0,1))\n",
    "ax[0].set_xlim((0,xmax))\n",
    "ax[0].spines['top'].set_visible(False)\n",
    "ax[0].spines['right'].set_visible(False)\n",
    "ax[0].tick_params(axis='both', which='major', labelsize=labelsize)\n",
    "ax[0].get_legend().remove()  \n",
    "\n",
    "sns.lineplot(data=discovery, x=\"effect_size\", y=\"em_Precision\", hue=\"method\", ax=ax[1])\n",
    "ax[1].set_xlabel('Effect Size', size=labelsize)  \n",
    "ax[1].set_ylabel('Precision', size=labelsize)  \n",
    "ax[1].set_ylim((0,1))\n",
    "ax[1].set_xlim((0,xmax))\n",
    "ax[1].spines['top'].set_visible(False)\n",
    "ax[1].spines['right'].set_visible(False)\n",
    "ax[1].tick_params(axis='both', which='major', labelsize=labelsize)\n",
    "ax[1].get_legend().remove()\n",
    "\n",
    "sns.lineplot(data=discovery, x=\"effect_size\", y=\"em_IoU\", hue=\"method\", ax=ax[2])\n",
    "ax[2].set_xlabel('Effect Size', size=labelsize) \n",
    "ax[2].set_ylabel('IoU', size=labelsize)  \n",
    "ax[2].set_ylim((0,1))\n",
    "ax[2].set_xlim((0,xmax))\n",
    "ax[2].spines['top'].set_visible(False)\n",
    "ax[2].spines['right'].set_visible(False)\n",
    "ax[2].tick_params(axis='both', which='major', labelsize=labelsize)\n",
    "ax[2].get_legend().remove()\n",
    "\n",
    "handles, labels = ax[0].get_legend_handles_labels()\n",
    "fig.legend(handles, labels, loc='upper right', ncol=4, bbox_to_anchor=(0.8, 0), fontsize=labelsize);"
   ]
  },
  {
   "cell_type": "markdown",
   "metadata": {},
   "source": [
    "# Estimation"
   ]
  },
  {
   "cell_type": "markdown",
   "metadata": {},
   "source": [
    "### Load Dataset"
   ]
  },
  {
   "cell_type": "code",
   "execution_count": null,
   "metadata": {},
   "outputs": [],
   "source": [
    "# load estimation results\n",
    "estimation = pyreadr.read_r('results/estimation_5000s_2r_5es_nc.rdata')[\"estimation\"]\n",
    "estimation.iloc[:,1:] = estimation.iloc[:,1:].astype(float)\n",
    "\n",
    "# standardize\n",
    "estimation[\"beta1\"] = (estimation[\"beta1\"]+estimation[\"effect_size\"])/estimation[\"effect_size\"]\n",
    "estimation[\"beta2\"] = (estimation[\"beta2\"]-estimation[\"effect_size\"])/estimation[\"effect_size\"]\n",
    "#estimation[\"beta3\"] = (estimation[\"beta3\"]+estimation[\"effect_size\"])/estimation[\"effect_size\"]\n",
    "#estimation[\"beta4\"] = (estimation[\"beta4\"]-estimation[\"effect_size\"])/estimation[\"effect_size\"]\n",
    "\n",
    "# filtering\n",
    "estimation.drop(columns=['beta3', 'beta4'], axis=1, inplace=True)\n",
    "methods = [\"CRE (aipw)\", \"CRE (cf)\", \"CRE (bcf)\", \"CF\", \"BCF\", \"AIPW\", \"HCT\"]\n",
    "estimation = estimation[estimation.method.isin(methods)]\n",
    "\n",
    "estimation.head()"
   ]
  },
  {
   "cell_type": "markdown",
   "metadata": {},
   "source": [
    "### ITE"
   ]
  },
  {
   "cell_type": "code",
   "execution_count": null,
   "metadata": {},
   "outputs": [],
   "source": [
    "fig, ax = plt.subplots(1,2,figsize=(9, 3), layout='constrained')\n",
    "fig.suptitle('Estimation - Individual Treatment Effect')\n",
    "\n",
    "sns.boxplot(data=estimation, x=\"rmse\", y=\"method\", ax=ax[0])\n",
    "ax[0].set_xlabel('RMSE')  \n",
    "ax[0].set_ylabel('Method')\n",
    "ax[0].set_xlim((0,3))\n",
    "ax[0].axvline(-5, 0, 5, color=\"black\", linestyle=\":\"); \n",
    "\n",
    "sns.boxplot(data=estimation, x=\"bias\", y=\"method\", ax=ax[1])\n",
    "ax[1].set_xlabel('Bias')  \n",
    "ax[1].set_ylabel('Method')\n",
    "ax[1].set_xlim((-0.4,0.4))\n",
    "ax[1].axvline(5, 0, 5, color=\"black\", linestyle=\":\")\n",
    "ax[1].axvline(0, 0, 5, color=\"black\", linestyle=\":\");  "
   ]
  },
  {
   "cell_type": "markdown",
   "metadata": {},
   "source": [
    "### CATE"
   ]
  },
  {
   "cell_type": "code",
   "execution_count": null,
   "metadata": {},
   "outputs": [],
   "source": [
    "estimation_beta = estimation.dropna()\n",
    "fig, ax = plt.subplots(1,2,figsize=(9, 3), layout='constrained')\n",
    "fig.suptitle('Estimation - β (CATE)')\n",
    "\n",
    "sns.boxplot(data=estimation_beta, x=\"beta1\", y=\"method\", ax=ax[0])\n",
    "ax[0].set_title('Rule 1')\n",
    "ax[0].set_xlabel('Bias')  \n",
    "ax[0].set_ylabel('Method')\n",
    "ax[0].set_xlim((-0.5,0.5))\n",
    "ax[0].axvline(0, 0, 5, color=\"black\", linestyle=\":\"); \n",
    "\n",
    "sns.boxplot(data=estimation_beta, x=\"beta2\", y=\"method\", ax=ax[1])\n",
    "ax[1].set_title('Rule 2')\n",
    "ax[1].set_xlabel('Bias')  \n",
    "ax[1].set_ylabel('Method')\n",
    "ax[1].set_xlim((-0.5,0.5))\n",
    "ax[1].axvline(0, 0, 5, color=\"black\", linestyle=\":\"); "
   ]
  },
  {
   "cell_type": "markdown",
   "metadata": {},
   "source": [
    "### Summary"
   ]
  },
  {
   "cell_type": "code",
   "execution_count": null,
   "metadata": {},
   "outputs": [],
   "source": [
    "estimation_summary = estimation.drop(columns=['effect_size', 'seed'], axis=1,)\n",
    "estimation_summary = estimation_summary.groupby(\"method\").agg([\"mean\",\"std\"])\n",
    "estimation_summary"
   ]
  }
 ],
 "metadata": {
  "interpreter": {
   "hash": "92034d80fd08153a8cb39e91a1d692e23c234592488df92e84a4eaacb341398d"
  },
  "kernelspec": {
   "display_name": "Python 3.10.8 ('plot')",
   "language": "python",
   "name": "python3"
  },
  "language_info": {
   "codemirror_mode": {
    "name": "ipython",
    "version": 3
   },
   "file_extension": ".py",
   "mimetype": "text/x-python",
   "name": "python",
   "nbconvert_exporter": "python",
   "pygments_lexer": "ipython3",
   "version": "3.10.8"
  },
  "orig_nbformat": 4
 },
 "nbformat": 4,
 "nbformat_minor": 2
}
