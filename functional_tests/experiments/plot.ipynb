{
 "cells": [
  {
   "cell_type": "code",
   "execution_count": null,
   "metadata": {},
   "outputs": [],
   "source": [
    "import pyreadr\n",
    "\n",
    "import pandas as pd\n",
    "import numpy as np\n",
    "\n",
    "import seaborn as sns\n",
    "import matplotlib.pyplot as plt\n",
    "\n",
    "import warnings\n",
    "warnings.filterwarnings(\"ignore\")\n"
   ]
  },
  {
   "cell_type": "markdown",
   "metadata": {},
   "source": [
    "# Discovery"
   ]
  },
  {
   "cell_type": "markdown",
   "metadata": {},
   "source": [
    "### Load Datasets"
   ]
  },
  {
   "cell_type": "code",
   "execution_count": null,
   "metadata": {},
   "outputs": [],
   "source": [
    "discovery = pyreadr.read_r('results/discovery_500s_2r_nc.rdata')[\"discovery\"]\n",
    "discovery.replace(\"NaN\",\"0\", inplace=True)\n",
    "discovery.iloc[:,1:] = discovery.iloc[:,1:].astype(float)\n",
    "discovery.head()"
   ]
  },
  {
   "cell_type": "markdown",
   "metadata": {},
   "source": [
    "### Effect Modifiers"
   ]
  },
  {
   "cell_type": "code",
   "execution_count": null,
   "metadata": {},
   "outputs": [],
   "source": [
    "fig, ax = plt.subplots(1,3,figsize=(10, 3.5), layout='constrained')\n",
    "fig.suptitle('Discovery - Effect Modifiers')\n",
    "\n",
    "sns.lineplot(data=discovery, x=\"effect_size\", y=\"em_IoU\", hue=\"method\", ax=ax[0])\n",
    "ax[0].set_xlabel('Effect Size') \n",
    "ax[0].set_ylabel('IoU') \n",
    "ax[0].set_ylim((0,1))\n",
    "ax[0].spines['top'].set_visible(False)\n",
    "ax[0].spines['right'].set_visible(False)\n",
    "ax[0].legend(loc='lower right');  \n",
    "\n",
    "sns.lineplot(data=discovery, x=\"effect_size\", y=\"em_Precision\", hue=\"method\", ax=ax[1])\n",
    "ax[1].set_xlabel('Effect Size')  \n",
    "ax[1].set_ylabel('Precision')  \n",
    "ax[1].set_ylim((0,1))\n",
    "ax[1].spines['top'].set_visible(False)\n",
    "ax[1].spines['right'].set_visible(False)\n",
    "ax[1].legend(loc='lower right');  \n",
    "\n",
    "sns.lineplot(data=discovery, x=\"effect_size\", y=\"em_Recall\", hue=\"method\", ax=ax[2])\n",
    "ax[2].set_xlabel('Effect Size') \n",
    "ax[2].set_ylabel('Recall')  \n",
    "ax[2].set_ylim((0,1))\n",
    "ax[2].spines['top'].set_visible(False)\n",
    "ax[2].spines['right'].set_visible(False)\n",
    "ax[2].legend(loc='lower right'); "
   ]
  },
  {
   "cell_type": "markdown",
   "metadata": {},
   "source": [
    "### Causal Decision Rules"
   ]
  },
  {
   "cell_type": "code",
   "execution_count": null,
   "metadata": {},
   "outputs": [],
   "source": [
    "fig, ax = plt.subplots(1,3,figsize=(10, 3.5), layout='constrained')\n",
    "fig.suptitle('Discovery - Causal Decision Rules')\n",
    "\n",
    "sns.lineplot(data=discovery, x=\"effect_size\", y=\"cdr_IoU\", hue=\"method\", ax=ax[0])\n",
    "ax[0].set_xlabel('Effect Size')  \n",
    "ax[0].set_ylabel('IoU') \n",
    "ax[0].set_ylim((0,1)) \n",
    "ax[0].spines['top'].set_visible(False)\n",
    "ax[0].spines['right'].set_visible(False)\n",
    "ax[0].legend(loc='lower right');\n",
    "\n",
    "sns.lineplot(data=discovery, x=\"effect_size\", y=\"cdr_Precision\", hue=\"method\", ax=ax[1])\n",
    "ax[1].set_xlabel('Effect Size')  \n",
    "ax[1].set_ylabel('Precision') \n",
    "ax[1].set_ylim((0,1)) \n",
    "ax[1].spines['top'].set_visible(False)\n",
    "ax[1].spines['right'].set_visible(False)\n",
    "ax[1].legend(loc='lower right');   \n",
    "\n",
    "sns.lineplot(data=discovery, x=\"effect_size\", y=\"cdr_Recall\", hue=\"method\", ax=ax[2])\n",
    "ax[2].set_xlabel('Effect Size')  \n",
    "ax[2].set_ylabel('Recall')  \n",
    "ax[2].set_ylim((0,1))\n",
    "ax[2].spines['top'].set_visible(False)\n",
    "ax[2].spines['right'].set_visible(False)\n",
    "ax[2].legend(loc='lower right');  "
   ]
  },
  {
   "cell_type": "markdown",
   "metadata": {},
   "source": [
    "# Estimation"
   ]
  },
  {
   "cell_type": "markdown",
   "metadata": {},
   "source": [
    "### Load Dataset"
   ]
  },
  {
   "cell_type": "code",
   "execution_count": null,
   "metadata": {},
   "outputs": [],
   "source": [
    "estimation = pyreadr.read_r('results/estimation_5000s_2r_5es_nc.rdata')[\"estimation\"]\n",
    "estimation.iloc[:,1:] = estimation.iloc[:,1:].astype(float)\n",
    "\n",
    "estimation[\"beta1\"] = (estimation[\"beta1\"]+estimation[\"effect_size\"])/estimation[\"effect_size\"]\n",
    "estimation[\"beta2\"] = (estimation[\"beta2\"]-estimation[\"effect_size\"])/estimation[\"effect_size\"]\n",
    "#estimation[\"beta3\"] = (estimation[\"beta3\"]+estimation[\"effect_size\"])/estimation[\"effect_size\"]\n",
    "#estimation[\"beta4\"] = (estimation[\"beta4\"]-estimation[\"effect_size\"])/estimation[\"effect_size\"]\n",
    "estimation.drop(columns=['beta3', 'beta4'], axis=1, inplace=True)\n",
    "estimation_beta = estimation.dropna()\n",
    "\n",
    "estimation.head()"
   ]
  },
  {
   "cell_type": "markdown",
   "metadata": {},
   "source": [
    "### ITE"
   ]
  },
  {
   "cell_type": "code",
   "execution_count": null,
   "metadata": {},
   "outputs": [],
   "source": [
    "fig, ax = plt.subplots(1,2,figsize=(9, 3), layout='constrained')\n",
    "fig.suptitle('Estimation - Individual Treatment Effect')\n",
    "\n",
    "sns.boxplot(data=estimation, x=\"rmse\", y=\"method\", ax=ax[0])\n",
    "ax[0].set_xlabel('RMSE')  \n",
    "ax[0].set_ylabel('Method')\n",
    "ax[0].set_xlim((0,10))\n",
    "ax[0].axvline(-5, 0, 5, color=\"black\", linestyle=\":\"); \n",
    "\n",
    "sns.boxplot(data=estimation, x=\"bias\", y=\"method\", ax=ax[1])\n",
    "ax[1].set_xlabel('Bias')  \n",
    "ax[1].set_ylabel('Method')\n",
    "ax[1].set_xlim((-0.4,0.4))\n",
    "ax[1].axvline(5, 0, 5, color=\"black\", linestyle=\":\")\n",
    "ax[1].axvline(0, 0, 5, color=\"black\", linestyle=\":\");  "
   ]
  },
  {
   "cell_type": "code",
   "execution_count": null,
   "metadata": {},
   "outputs": [],
   "source": [
    "estimation_summary = estimation.drop(columns=['effect_size', 'seed',\"beta1\",\"beta2\"], axis=1,)\n",
    "estimation_summary = estimation_summary.groupby(\"method\").agg([\"mean\",\"std\"])\n",
    "estimation_summary"
   ]
  },
  {
   "cell_type": "markdown",
   "metadata": {},
   "source": [
    "### CATE"
   ]
  },
  {
   "cell_type": "code",
   "execution_count": null,
   "metadata": {},
   "outputs": [],
   "source": [
    "fig, ax = plt.subplots(1,2,figsize=(9, 3), layout='constrained')\n",
    "fig.suptitle('Estimation - β (CATE)')\n",
    "\n",
    "sns.boxplot(data=estimation_beta, x=\"beta1\", y=\"method\", ax=ax[0])\n",
    "ax[0].set_title('Rule 1')\n",
    "ax[0].set_xlabel('Bias')  \n",
    "ax[0].set_ylabel('Method')\n",
    "ax[0].set_xlim((-1,1))\n",
    "ax[0].axvline(0, 0, 5, color=\"black\", linestyle=\":\"); \n",
    "\n",
    "sns.boxplot(data=estimation_beta, x=\"beta2\", y=\"method\", ax=ax[1])\n",
    "ax[1].set_title('Rule 2')\n",
    "ax[1].set_xlabel('Bias')  \n",
    "ax[1].set_ylabel('Method')\n",
    "ax[1].set_xlim((-1,1))\n",
    "ax[1].axvline(0, 0, 5, color=\"black\", linestyle=\":\"); "
   ]
  }
 ],
 "metadata": {
  "interpreter": {
   "hash": "92034d80fd08153a8cb39e91a1d692e23c234592488df92e84a4eaacb341398d"
  },
  "kernelspec": {
   "display_name": "Python 3.10.8 ('plot')",
   "language": "python",
   "name": "python3"
  },
  "language_info": {
   "codemirror_mode": {
    "name": "ipython",
    "version": 3
   },
   "file_extension": ".py",
   "mimetype": "text/x-python",
   "name": "python",
   "nbconvert_exporter": "python",
   "pygments_lexer": "ipython3",
   "version": "3.10.8"
  },
  "orig_nbformat": 4
 },
 "nbformat": 4,
 "nbformat_minor": 2
}
